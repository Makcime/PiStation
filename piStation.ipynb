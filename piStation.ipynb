{
 "metadata": {
  "name": ""
 },
 "nbformat": 3,
 "nbformat_minor": 0,
 "worksheets": [
  {
   "cells": [
    {
     "cell_type": "markdown",
     "metadata": {},
     "source": [
      "# ** Grosse avanc\u00e9e cot\u00e9 software cette semaine ! **\n"
     ]
    },
    {
     "cell_type": "markdown",
     "metadata": {},
     "source": [
      "# D\u00e9tection des composants sur le bus i2c\n",
      "\n",
      "```shell\n",
      "pi@raspberrypi ~ $ sudo i2cdetect 1\n",
      "WARNING! This program can confuse your I2C bus, cause data loss and worse!\n",
      "I will probe file /dev/i2c-1.\n",
      "I will probe address range 0x03-0x77.\n",
      "Continue? [Y/n] \n",
      "     0  1  2  3  4  5  6  7  8  9  a  b  c  d  e  f\n",
      "00:          -- -- -- -- -- -- -- -- -- -- -- -- -- \n",
      "10: -- -- -- -- -- -- -- -- -- -- -- -- -- -- -- -- \n",
      "20: -- -- -- -- -- -- -- -- -- -- -- -- -- -- -- -- \n",
      "30: -- -- -- -- -- -- -- -- -- -- -- -- -- -- -- -- \n",
      "40: -- -- -- -- -- -- -- -- 48 49 -- -- 4c -- -- 4f \n",
      "50: -- 51 -- -- -- -- -- -- -- -- -- -- -- -- -- -- \n",
      "60: 60 -- -- -- -- -- -- -- -- -- -- -- -- -- -- -- \n",
      "70: -- -- -- -- -- -- -- -- \n",
      "```"
     ]
    },
    {
     "cell_type": "markdown",
     "metadata": {},
     "source": [
      "# Addressage sur le bus I2C\n",
      "\n",
      "| Address   | Sensor        |\n",
      "| :-------: |:-------------:|\n",
      "| 0x48      | ADC           |\n",
      "| 0x49      | Temperature 1 |\n",
      "| 0x4C      | Temperature 2 |\n",
      "| 0x4F      | Temperature 2 |\n",
      "| 0x51      | Humidity      |\n",
      "| 0x60      | Pressure      |\n"
     ]
    },
    {
     "cell_type": "markdown",
     "metadata": {},
     "source": [
      "# Programmation\n",
      "\n",
      "* \u00c9criture de 3 scripts python capables de communiquer avec les diff\u00e9rents capteurs et d'interpreter les donn\u00e9es renvoy\u00e9es.\n",
      "* Utilisation du module *smbus* pour la communication i2c.\n",
      "* Mise en ligne des source du projet sur [Github](https://github.com/Makcime/PiStation.git)"
     ]
    },
    {
     "cell_type": "markdown",
     "metadata": {},
     "source": [
      "# Mesure de la temp\u00e9rature\n",
      "\n",
      "```\n",
      "pi@raspberrypi ~ $ sudo i2cget -y 1 0x49 0x00 w | awk '{print( (\"0x\"substr($1,5,2)substr($1,3,1))*0.0625) }'\n",
      "28\n",
      "pi@raspberrypi ~ $ sudo i2cget -y 1 0x4c 0x00 w | awk '{print( (\"0x\"substr($1,5,2)substr($1,3,1))*0.0625) }'\n",
      "28.5\n",
      "pi@raspberrypi ~ $ sudo i2cget -y 1 0x4f 0x00 w | awk '{print( (\"0x\"substr($1,5,2)substr($1,3,1))*0.0625) }'\n",
      "22\n",
      "```\n",
      "\n",
      "Voil\u00e0 un premier test de mesure de temp\u00e9rature sur les capteurs lm75.\n",
      "On peut constater qu'il y a une d\u00e9ff\u00e9rence 4\u00b0C entre les capteur pr\u00e9sent sur la carte et le capteur externe. C'est \u00e9videment le capteur externe qui correspond le plus pr\u00e9cisement \u00e0 la temp\u00e9rature ambiante r\u00e9ele. "
     ]
    },
    {
     "cell_type": "markdown",
     "metadata": {},
     "source": [
      "## output :\n",
      "\n",
      "```shell\n",
      "pi@raspberrypi ~/piStation $ sudo python lm75.py \n",
      "Temp on  0x49 : 29.5 \u00b0 C\n",
      "Temp on  0x4c : 29.5 \u00b0 C\n",
      "Temp on  0x4f : 21.5 \u00b0 C\n",
      "```\n"
     ]
    },
    {
     "cell_type": "markdown",
     "metadata": {},
     "source": [
      "# Mesure de la pression atmosph\u00e9rique\n",
      "## output :\n",
      "\n",
      "```shell\n",
      "pi@raspberrypi ~/piStation $ sudo python MPL3115A2.py \n",
      "0xc4\n",
      "Waiting for data...\n",
      "Reading sensor data...\n",
      "status: 0b0\n",
      "Pressure and Temperature at 04/22/2015 13:17:55+0000\n",
      "100131.5 Pa\n",
      "28.1875\u00b0C\n",
      "82.7375\u00b0F\n",
      "```"
     ]
    },
    {
     "cell_type": "markdown",
     "metadata": {},
     "source": [
      "# Mesure du taux d'humidit\u00e9\n",
      "## output :\n",
      "\n",
      "```text\n",
      "pi@raspberrypi ~/piStation $ sudo python hh10d.py \n",
      "Sens: 398\n",
      "Offset : 7741\n",
      "Frequency : 7113.90212953\n",
      "Humidity : 61.02 %\n",
      "```\n",
      "\n",
      "Mesure de la fr\u00e9quence \u00e0 l'oscillo :\n",
      "* 7.260 kHz\n",
      "\n",
      "Il y a un une assez grande erreur sur la mesure de la fr\u00e9quence. En effet, la mesure \u00e0 l'oscilloscope est assez stable alors que la Frequce mesur\u00e9e par le RPI varie bcp. Il faut revoir la technique de mesure de cette fr\u00e9quence afin d'am\u00e9lirer la pr\u00e9cision et la fiabilit\u00e9 du capteur.\n",
      "\n",
      "D'apr\u00e8s ce post : [GPIO du Raspberry Pi : mesure de fr\u00e9quence](http://www.blaess.fr/christophe/2014/01/22/gpio-du-raspberry-pi-mesure-de-frequence/), une mesure de fr\u00e9quence peut \u00eatre tr\u00e8s pr\u00e9cise jusque 10kHhz et seulement 10% d'erreur a 100kHz. Le capteur fonctionnant de 5 \u00e0 10 KHz, nous devrions obtenir de bon r\u00e9sultat en utilisant un autre sofware pour d'\u00e9chantillonnage."
     ]
    },
    {
     "cell_type": "code",
     "collapsed": false,
     "input": [],
     "language": "python",
     "metadata": {},
     "outputs": []
    }
   ],
   "metadata": {}
  }
 ]
}